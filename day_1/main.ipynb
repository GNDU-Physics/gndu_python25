{
 "cells": [
  {
   "cell_type": "code",
   "execution_count": 2,
   "id": "3f160af4-40a8-4ec0-9e79-ead52135df80",
   "metadata": {},
   "outputs": [
    {
     "name": "stdout",
     "output_type": "stream",
     "text": [
      "Hello Physics\n"
     ]
    }
   ],
   "source": [
    "print(\"Hello Physics\")"
   ]
  },
  {
   "cell_type": "code",
   "execution_count": 6,
   "id": "6830d340-0236-45c5-9253-ed8b700e09ba",
   "metadata": {},
   "outputs": [
    {
     "name": "stdout",
     "output_type": "stream",
     "text": [
      "he's cute\n"
     ]
    }
   ],
   "source": [
    "print(\"he's cute\")"
   ]
  },
  {
   "cell_type": "code",
   "execution_count": 10,
   "id": "ea270987-ffd6-4497-acef-149d25331ad5",
   "metadata": {},
   "outputs": [
    {
     "name": "stdout",
     "output_type": "stream",
     "text": [
      " hi my name is Jashanpreet\n",
      "I am a BSc. Physics Student \n",
      "I love astronomy\n"
     ]
    }
   ],
   "source": [
    "print(''' hi my name is Jashanpreet\n",
    "I am a BSc. Physics Student \n",
    "I love astronomy''')"
   ]
  },
  {
   "cell_type": "code",
   "execution_count": 13,
   "id": "417bd7e3-0832-4148-8601-75d88b6e6ec8",
   "metadata": {},
   "outputs": [
    {
     "data": {
      "text/plain": [
       "' this is also a comment '"
      ]
     },
     "execution_count": 13,
     "metadata": {},
     "output_type": "execute_result"
    }
   ],
   "source": [
    "# this is a comment and this wont be executing as a code \n",
    "''' this is also a comment '''"
   ]
  },
  {
   "cell_type": "code",
   "execution_count": 15,
   "id": "e7894631-f4e6-44d2-a330-f4f0ca41aa55",
   "metadata": {},
   "outputs": [
    {
     "data": {
      "text/plain": [
       "' this is a multiple line comment\\nand i cant add as many lines i want '"
      ]
     },
     "execution_count": 15,
     "metadata": {},
     "output_type": "execute_result"
    }
   ],
   "source": [
    "# this is a single line comment \n",
    "''' this is a multiple line comment\n",
    "and i cant add as many lines i want '''"
   ]
  },
  {
   "cell_type": "code",
   "execution_count": 47,
   "id": "9f53c030-b86c-4521-a5c3-226b31a7426b",
   "metadata": {},
   "outputs": [
    {
     "name": "stdout",
     "output_type": "stream",
     "text": [
      "this line must \n",
      " be multiple \t \t \t line\n"
     ]
    }
   ],
   "source": [
    "print('this line must \\n be multiple \\t \\t \\t line')"
   ]
  },
  {
   "cell_type": "markdown",
   "id": "92ed1a81-ba15-4c94-ac50-bb33eb2c566a",
   "metadata": {},
   "source": [
    "# Variable and Datatypes\n",
    "## Variable and Datatypes\n",
    "### Variable and Datatypes\n",
    "#### Variable and Datatypes\n",
    "##### Variable and Datatypes\n",
    "##### Variable and Datatypes\n",
    "\n",
    "this is a normal text "
   ]
  },
  {
   "cell_type": "code",
   "execution_count": 41,
   "id": "744aec3a-229e-4b7f-bb75-ccd9c27632a8",
   "metadata": {},
   "outputs": [
    {
     "name": "stdout",
     "output_type": "stream",
     "text": [
      "a\n",
      "19\n",
      "jashan\n",
      "19 jashan True 8.0\n"
     ]
    },
    {
     "data": {
      "text/plain": [
       "(19, True)"
      ]
     },
     "execution_count": 41,
     "metadata": {},
     "output_type": "execute_result"
    }
   ],
   "source": [
    "a = 19 # int - integer\n",
    "b = \"jashan\" # str - string \n",
    "c = True #bool - boolean - True or False\n",
    "d = 8.0 #float - decimal \n",
    "\n",
    "print('a') # our system is considering this as a string \n",
    "print(a) # our system want a value that belong to variable 'a'\n",
    "print(b)\n",
    "print(a,b,c,d)\n",
    "a,c"
   ]
  },
  {
   "cell_type": "code",
   "execution_count": 42,
   "id": "da66a4cf-3710-4bb5-8d1f-465ecd654f2b",
   "metadata": {},
   "outputs": [
    {
     "name": "stdout",
     "output_type": "stream",
     "text": [
      "<class 'int'>\n",
      "<class 'str'>\n",
      "<class 'bool'>\n",
      "<class 'float'>\n"
     ]
    }
   ],
   "source": [
    "print(type(a))\n",
    "print(type(b))\n",
    "print(type(c))\n",
    "print(type(d))"
   ]
  },
  {
   "cell_type": "code",
   "execution_count": 43,
   "id": "4f7afe3a-c8b6-4739-9a07-4acd1d62486f",
   "metadata": {},
   "outputs": [
    {
     "name": "stdout",
     "output_type": "stream",
     "text": [
      "my name is jashan. My age is 19, my CGPA is 8.0 and I am True\n"
     ]
    }
   ],
   "source": [
    "print(f\"my name is {b}. My age is {a}, my CGPA is {d} and I am {c}\")"
   ]
  },
  {
   "cell_type": "markdown",
   "id": "28ba2de2-c550-49a2-bca2-9d76c09b10e6",
   "metadata": {},
   "source": [
    "# Maths - Operators"
   ]
  },
  {
   "cell_type": "code",
   "execution_count": 45,
   "id": "d83fdf7f-35c2-4701-86a0-57337523b6d7",
   "metadata": {},
   "outputs": [
    {
     "name": "stdout",
     "output_type": "stream",
     "text": [
      "8\n",
      "2\n",
      "15\n",
      "1.6666666666666667\n",
      "125\n",
      "2\n",
      "1\n"
     ]
    }
   ],
   "source": [
    "x = 5 \n",
    "y = 3\n",
    "\n",
    "print(x+y) # add\n",
    "print(x-y) # minus\n",
    "print(x*y) # multipy \n",
    "print(x/y) # divide\n",
    "print(x**y) # power\n",
    "print(x%y) # remainder = 2\n",
    "print(x//y) # x/y = 1.6 but x//y = rounder of x/y == 1 (floor division)"
   ]
  },
  {
   "cell_type": "markdown",
   "id": "2386aefc-7f02-4f8c-b3de-9deaaed00e53",
   "metadata": {},
   "source": [
    "# Input and Output"
   ]
  },
  {
   "cell_type": "code",
   "execution_count": 49,
   "id": "bf11a724-1aae-4ec5-a86c-7818382051b1",
   "metadata": {},
   "outputs": [
    {
     "name": "stdin",
     "output_type": "stream",
     "text": [
      "Whats your name?\n",
      " Jshan\n"
     ]
    },
    {
     "name": "stdout",
     "output_type": "stream",
     "text": [
      "Hello Jshan!\n"
     ]
    }
   ],
   "source": [
    "name = input(\"Whats your name?\\n\")\n",
    "print(f\"Hello {name}!\")"
   ]
  },
  {
   "cell_type": "markdown",
   "id": "0a2ee610-3cea-4266-a49b-53a27c91472e",
   "metadata": {},
   "source": [
    "---\n",
    "to be continued...."
   ]
  }
 ],
 "metadata": {
  "kernelspec": {
   "display_name": "Python (galamo)",
   "language": "python",
   "name": "galamo-env"
  },
  "language_info": {
   "codemirror_mode": {
    "name": "ipython",
    "version": 3
   },
   "file_extension": ".py",
   "mimetype": "text/x-python",
   "name": "python",
   "nbconvert_exporter": "python",
   "pygments_lexer": "ipython3",
   "version": "3.10.11"
  }
 },
 "nbformat": 4,
 "nbformat_minor": 5
}
